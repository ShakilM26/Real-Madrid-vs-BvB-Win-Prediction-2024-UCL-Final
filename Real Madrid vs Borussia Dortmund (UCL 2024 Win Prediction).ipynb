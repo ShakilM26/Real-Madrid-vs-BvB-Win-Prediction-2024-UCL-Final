{
 "cells": [
  {
   "cell_type": "code",
   "execution_count": 1,
   "id": "51641283",
   "metadata": {},
   "outputs": [],
   "source": [
    "import numpy as np\n",
    "import pandas as pd"
   ]
  },
  {
   "cell_type": "code",
   "execution_count": 2,
   "id": "f0bfa130",
   "metadata": {},
   "outputs": [],
   "source": [
    "ucl_alltime = pd.read_csv(r'C:\\Users\\Shakil\\Downloads\\Compressed\\UEFA Champions League Historical Dataset 1955-2023\\ucl_alltime.csv')\n",
    "\n",
    "ucl_finals = pd.read_csv(r'C:\\Users\\Shakil\\Downloads\\Compressed\\UEFA Champions League Historical Dataset 1955-2023\\ucl_finals.csv')"
   ]
  },
  {
   "cell_type": "code",
   "execution_count": null,
   "id": "26be8460",
   "metadata": {},
   "outputs": [],
   "source": []
  },
  {
   "cell_type": "code",
   "execution_count": 8,
   "id": "5ace6a98",
   "metadata": {},
   "outputs": [
    {
     "data": {
      "text/html": [
       "<div>\n",
       "<style scoped>\n",
       "    .dataframe tbody tr th:only-of-type {\n",
       "        vertical-align: middle;\n",
       "    }\n",
       "\n",
       "    .dataframe tbody tr th {\n",
       "        vertical-align: top;\n",
       "    }\n",
       "\n",
       "    .dataframe thead th {\n",
       "        text-align: right;\n",
       "    }\n",
       "</style>\n",
       "<table border=\"1\" class=\"dataframe\">\n",
       "  <thead>\n",
       "    <tr style=\"text-align: right;\">\n",
       "      <th></th>\n",
       "      <th>team</th>\n",
       "      <th>matches</th>\n",
       "      <th>win</th>\n",
       "      <th>draw</th>\n",
       "      <th>loss</th>\n",
       "      <th>goals</th>\n",
       "      <th>goal difference</th>\n",
       "      <th>points</th>\n",
       "      <th>winners</th>\n",
       "    </tr>\n",
       "  </thead>\n",
       "  <tbody>\n",
       "    <tr>\n",
       "      <th>0</th>\n",
       "      <td>Real Madrid</td>\n",
       "      <td>486</td>\n",
       "      <td>291</td>\n",
       "      <td>85</td>\n",
       "      <td>110</td>\n",
       "      <td>1076:55:00</td>\n",
       "      <td>533</td>\n",
       "      <td>533</td>\n",
       "      <td>14</td>\n",
       "    </tr>\n",
       "  </tbody>\n",
       "</table>\n",
       "</div>"
      ],
      "text/plain": [
       "          team  matches  win  draw  loss       goals  goal difference  points  \\\n",
       "0  Real Madrid      486  291    85   110  1076:55:00              533     533   \n",
       "\n",
       "   winners  \n",
       "0       14  "
      ]
     },
     "execution_count": 8,
     "metadata": {},
     "output_type": "execute_result"
    }
   ],
   "source": [
    "real_madrid_alltime = ucl_alltime[ucl_alltime['team'] == 'Real Madrid']\n",
    "borussia_alltime = ucl_alltime[ucl_alltime['team'] == 'Borussia Dortmund']\n",
    "real_madrid_alltime"
   ]
  },
  {
   "cell_type": "code",
   "execution_count": 9,
   "id": "39f69907",
   "metadata": {},
   "outputs": [],
   "source": [
    "# create a function for creating new feature\n",
    "\n",
    "def calculate_features(team_data):\n",
    "    matches = team_data['matches'].values[0]\n",
    "    win_rate = team_data['win'].values[0] / matches\n",
    "    draw_rate = team_data['draw'].values[0] / matches\n",
    "    loss_rate = team_data['loss'].values[0] / matches\n",
    "    goal_diff_per_match = team_data['goal difference'].values[0] / matches\n",
    "    points_per_match = team_data['points'].values[0] / matches\n",
    "    return win_rate, draw_rate, loss_rate, goal_diff_per_match, points_per_match"
   ]
  },
  {
   "cell_type": "code",
   "execution_count": 10,
   "id": "e394c87c",
   "metadata": {},
   "outputs": [],
   "source": [
    "real_madrid_features = calculate_features(real_madrid_alltime)\n",
    "borussia_features = calculate_features(borussia_alltime)"
   ]
  },
  {
   "cell_type": "code",
   "execution_count": null,
   "id": "f0bc6af2",
   "metadata": {},
   "outputs": [],
   "source": []
  },
  {
   "cell_type": "code",
   "execution_count": 11,
   "id": "6420cb3e",
   "metadata": {},
   "outputs": [],
   "source": [
    "# Extract features from ucl_finals\n",
    "# Count the number of wins in finals for each team\n",
    "final_wins = ucl_finals['Winners'].value_counts()\n",
    "final_losses = ucl_finals['Runners-up'].value_counts()"
   ]
  },
  {
   "cell_type": "code",
   "execution_count": 12,
   "id": "d9a7e391",
   "metadata": {},
   "outputs": [],
   "source": [
    "real_madrid_final_wins = final_wins.get('Real Madrid', 0)\n",
    "real_madrid_final_losses = final_losses.get('Real Madrid', 0)\n",
    "\n",
    "borussia_final_wins = final_wins.get('Borussia Dortmund', 0)\n",
    "borussia_final_losses = final_losses.get('Borussia Dortmund', 0)"
   ]
  },
  {
   "cell_type": "code",
   "execution_count": null,
   "id": "5c86e012",
   "metadata": {},
   "outputs": [],
   "source": []
  },
  {
   "cell_type": "code",
   "execution_count": 14,
   "id": "43b3337c",
   "metadata": {},
   "outputs": [],
   "source": [
    "data = {\n",
    "    'team': ['Real Madrid', 'Borussia Dortmund'],\n",
    "    'win_rate': [real_madrid_features[0], borussia_features[0]],\n",
    "    'draw_rate': [real_madrid_features[1], borussia_features[1]],\n",
    "    'loss_rate': [real_madrid_features[2], borussia_features[2]],\n",
    "    'goal_diff_per_match': [real_madrid_features[3], borussia_features[3]],\n",
    "    'points_per_match': [real_madrid_features[4], borussia_features[4]],\n",
    "    'final_wins': [real_madrid_final_wins, borussia_final_wins],\n",
    "    'final_losses': [real_madrid_final_losses, borussia_final_losses]}"
   ]
  },
  {
   "cell_type": "code",
   "execution_count": 15,
   "id": "e1c5d1e7",
   "metadata": {},
   "outputs": [
    {
     "data": {
      "text/html": [
       "<div>\n",
       "<style scoped>\n",
       "    .dataframe tbody tr th:only-of-type {\n",
       "        vertical-align: middle;\n",
       "    }\n",
       "\n",
       "    .dataframe tbody tr th {\n",
       "        vertical-align: top;\n",
       "    }\n",
       "\n",
       "    .dataframe thead th {\n",
       "        text-align: right;\n",
       "    }\n",
       "</style>\n",
       "<table border=\"1\" class=\"dataframe\">\n",
       "  <thead>\n",
       "    <tr style=\"text-align: right;\">\n",
       "      <th></th>\n",
       "      <th>team</th>\n",
       "      <th>win_rate</th>\n",
       "      <th>draw_rate</th>\n",
       "      <th>loss_rate</th>\n",
       "      <th>goal_diff_per_match</th>\n",
       "      <th>points_per_match</th>\n",
       "      <th>final_wins</th>\n",
       "      <th>final_losses</th>\n",
       "    </tr>\n",
       "  </thead>\n",
       "  <tbody>\n",
       "    <tr>\n",
       "      <th>0</th>\n",
       "      <td>Real Madrid</td>\n",
       "      <td>0.598765</td>\n",
       "      <td>0.174897</td>\n",
       "      <td>0.226337</td>\n",
       "      <td>1.096708</td>\n",
       "      <td>1.096708</td>\n",
       "      <td>14</td>\n",
       "      <td>3</td>\n",
       "    </tr>\n",
       "    <tr>\n",
       "      <th>1</th>\n",
       "      <td>Borussia Dortmund</td>\n",
       "      <td>0.471591</td>\n",
       "      <td>0.204545</td>\n",
       "      <td>0.323864</td>\n",
       "      <td>0.426136</td>\n",
       "      <td>0.426136</td>\n",
       "      <td>1</td>\n",
       "      <td>1</td>\n",
       "    </tr>\n",
       "  </tbody>\n",
       "</table>\n",
       "</div>"
      ],
      "text/plain": [
       "                team  win_rate  draw_rate  loss_rate  goal_diff_per_match  \\\n",
       "0        Real Madrid  0.598765   0.174897   0.226337             1.096708   \n",
       "1  Borussia Dortmund  0.471591   0.204545   0.323864             0.426136   \n",
       "\n",
       "   points_per_match  final_wins  final_losses  \n",
       "0          1.096708          14             3  \n",
       "1          0.426136           1             1  "
      ]
     },
     "execution_count": 15,
     "metadata": {},
     "output_type": "execute_result"
    }
   ],
   "source": [
    "# create a new dataframe for real madrid and borussia dortmund\n",
    "\n",
    "features_df = pd.DataFrame(data)\n",
    "features_df"
   ]
  },
  {
   "cell_type": "code",
   "execution_count": null,
   "id": "32c47bb1",
   "metadata": {},
   "outputs": [],
   "source": []
  },
  {
   "cell_type": "code",
   "execution_count": 16,
   "id": "ed0ba987",
   "metadata": {},
   "outputs": [],
   "source": [
    "from sklearn.linear_model import LogisticRegression\n",
    "import numpy as np\n",
    "\n",
    "# Prepare the data for modeling\n",
    "x = features_df[['win_rate', 'draw_rate', 'loss_rate', 'goal_diff_per_match', \n",
    "                 'points_per_match', 'final_wins', 'final_losses']]\n",
    "y = np.array([1, 0])  # Assigning 1 to Real Madrid (higher historical performance), 0 to Borussia Dortmund\n"
   ]
  },
  {
   "cell_type": "code",
   "execution_count": 17,
   "id": "438cd05a",
   "metadata": {},
   "outputs": [],
   "source": [
    "model = LogisticRegression()\n",
    "model.fit(x, y)\n",
    "\n",
    "# Predict the winner for the final (Real Madrid vs. Borussia Dortmund)\n",
    "prediction = model.predict(x)"
   ]
  },
  {
   "cell_type": "code",
   "execution_count": 18,
   "id": "9f2fc47c",
   "metadata": {},
   "outputs": [
    {
     "data": {
      "text/plain": [
       "'Real Madrid'"
      ]
     },
     "execution_count": 18,
     "metadata": {},
     "output_type": "execute_result"
    }
   ],
   "source": [
    "predicted_winner_index = prediction.argmax()\n",
    "predicted_winner = features_df.iloc[predicted_winner_index]['team']\n",
    "predicted_winner"
   ]
  },
  {
   "cell_type": "code",
   "execution_count": 20,
   "id": "9242ac18",
   "metadata": {},
   "outputs": [
    {
     "data": {
      "text/plain": [
       "(0.9626268184063416, 0.03735363769765617)"
      ]
     },
     "execution_count": 20,
     "metadata": {},
     "output_type": "execute_result"
    }
   ],
   "source": [
    "probabilities = model.predict_proba(x)\n",
    "\n",
    "# Get the probabilities for Real Madrid (index 0) and Borussia Dortmund (index 1)\n",
    "real_madrid_probability = probabilities[0, 1]  # Probability of Real Madrid\n",
    "borussia_probability = probabilities[1, 1]     # Probability of Borussia Dortmund\n",
    "\n",
    "real_madrid_probability, borussia_probability"
   ]
  },
  {
   "cell_type": "code",
   "execution_count": null,
   "id": "7db43faf",
   "metadata": {},
   "outputs": [],
   "source": []
  },
  {
   "cell_type": "code",
   "execution_count": 21,
   "id": "07644f9c",
   "metadata": {},
   "outputs": [
    {
     "data": {
      "text/plain": [
       "(96.26268184063416, 3.735363769765617)"
      ]
     },
     "execution_count": 21,
     "metadata": {},
     "output_type": "execute_result"
    }
   ],
   "source": [
    "Real_Madrid_percentage = real_madrid_probability * 100\n",
    "Borussia_Dortmund_percentage = borussia_probability * 100\n",
    "Real_Madrid_percentage, Borussia_Dortmund_percentage"
   ]
  },
  {
   "cell_type": "code",
   "execution_count": 22,
   "id": "bb16fe51",
   "metadata": {},
   "outputs": [
    {
     "name": "stdout",
     "output_type": "stream",
     "text": [
      "Real Madrid win probability: 96.26%\n",
      "Borussia Dortmund win probability: 3.74%\n"
     ]
    }
   ],
   "source": [
    "print(f'Real Madrid win probability: {Real_Madrid_percentage:.2f}%')\n",
    "print(f'Borussia Dortmund win probability: {Borussia_Dortmund_percentage:.2f}%')"
   ]
  },
  {
   "cell_type": "code",
   "execution_count": null,
   "id": "935fdee0",
   "metadata": {},
   "outputs": [],
   "source": []
  }
 ],
 "metadata": {
  "kernelspec": {
   "display_name": "Python 3 (ipykernel)",
   "language": "python",
   "name": "python3"
  },
  "language_info": {
   "codemirror_mode": {
    "name": "ipython",
    "version": 3
   },
   "file_extension": ".py",
   "mimetype": "text/x-python",
   "name": "python",
   "nbconvert_exporter": "python",
   "pygments_lexer": "ipython3",
   "version": "3.10.9"
  }
 },
 "nbformat": 4,
 "nbformat_minor": 5
}
